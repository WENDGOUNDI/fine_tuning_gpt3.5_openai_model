{
 "cells": [
  {
   "cell_type": "markdown",
   "metadata": {},
   "source": [
    "## dataset link:https://www.kaggle.com/datasets/quangnguyen711/clothes-shop-chatbot-dataset"
   ]
  },
  {
   "cell_type": "code",
   "execution_count": 13,
   "metadata": {},
   "outputs": [],
   "source": [
    "# Import libraries\n",
    "\n",
    "import pandas as pd\n",
    "import json\n",
    "import openai\n",
    "\n",
    "# Set your OpenAI API key\n",
    "client = openai.OpenAI(api_key=\"Put your OpenAI API Key Here\")"
   ]
  },
  {
   "cell_type": "code",
   "execution_count": 2,
   "metadata": {},
   "outputs": [
    {
     "data": {
      "text/html": [
       "<div>\n",
       "<style scoped>\n",
       "    .dataframe tbody tr th:only-of-type {\n",
       "        vertical-align: middle;\n",
       "    }\n",
       "\n",
       "    .dataframe tbody tr th {\n",
       "        vertical-align: top;\n",
       "    }\n",
       "\n",
       "    .dataframe thead th {\n",
       "        text-align: right;\n",
       "    }\n",
       "</style>\n",
       "<table border=\"1\" class=\"dataframe\">\n",
       "  <thead>\n",
       "    <tr style=\"text-align: right;\">\n",
       "      <th></th>\n",
       "      <th>Context</th>\n",
       "      <th>Question</th>\n",
       "      <th>Answer</th>\n",
       "    </tr>\n",
       "  </thead>\n",
       "  <tbody>\n",
       "    <tr>\n",
       "      <th>0</th>\n",
       "      <td>You can cancel your order within 8 hours of pl...</td>\n",
       "      <td>How long do I have to cancel my order?</td>\n",
       "      <td>Orders can be canceled within 8 hours. Follow ...</td>\n",
       "    </tr>\n",
       "    <tr>\n",
       "      <th>1</th>\n",
       "      <td>You can cancel your order within 8 hours of pl...</td>\n",
       "      <td>Is providing a reason for cancellation necessary?</td>\n",
       "      <td>Giving a reason is optional, but it helps us i...</td>\n",
       "    </tr>\n",
       "    <tr>\n",
       "      <th>2</th>\n",
       "      <td>You can cancel your order within 8 hours of pl...</td>\n",
       "      <td>Can I cancel an order after the 8-hour window?</td>\n",
       "      <td>Unfortunately, cancellations are only accepted...</td>\n",
       "    </tr>\n",
       "    <tr>\n",
       "      <th>3</th>\n",
       "      <td>You can cancel your order within 8 hours of pl...</td>\n",
       "      <td>I accidentally canceled my order. What now?</td>\n",
       "      <td>Reach out to our support team at aut.clothes.c...</td>\n",
       "    </tr>\n",
       "    <tr>\n",
       "      <th>4</th>\n",
       "      <td>You can cancel your order within 8 hours of pl...</td>\n",
       "      <td>Do you charge any fees for order cancellations?</td>\n",
       "      <td>No fees for cancellations within 8 hours. It's...</td>\n",
       "    </tr>\n",
       "  </tbody>\n",
       "</table>\n",
       "</div>"
      ],
      "text/plain": [
       "                                             Context  \\\n",
       "0  You can cancel your order within 8 hours of pl...   \n",
       "1  You can cancel your order within 8 hours of pl...   \n",
       "2  You can cancel your order within 8 hours of pl...   \n",
       "3  You can cancel your order within 8 hours of pl...   \n",
       "4  You can cancel your order within 8 hours of pl...   \n",
       "\n",
       "                                            Question  \\\n",
       "0             How long do I have to cancel my order?   \n",
       "1  Is providing a reason for cancellation necessary?   \n",
       "2     Can I cancel an order after the 8-hour window?   \n",
       "3        I accidentally canceled my order. What now?   \n",
       "4    Do you charge any fees for order cancellations?   \n",
       "\n",
       "                                              Answer  \n",
       "0  Orders can be canceled within 8 hours. Follow ...  \n",
       "1  Giving a reason is optional, but it helps us i...  \n",
       "2  Unfortunately, cancellations are only accepted...  \n",
       "3  Reach out to our support team at aut.clothes.c...  \n",
       "4  No fees for cancellations within 8 hours. It's...  "
      ]
     },
     "execution_count": 2,
     "metadata": {},
     "output_type": "execute_result"
    }
   ],
   "source": [
    "# Load and read our training data saved as csv\n",
    "\n",
    "mydata = pd.read_csv(r\".\\data\\ClothesShopChatbotDataset.csv\")\n",
    "mydata.head()"
   ]
  },
  {
   "cell_type": "code",
   "execution_count": 4,
   "metadata": {},
   "outputs": [
    {
     "data": {
      "text/plain": [
       "(1185, 3)"
      ]
     },
     "execution_count": 4,
     "metadata": {},
     "output_type": "execute_result"
    }
   ],
   "source": [
    "# Get the data shape\n",
    "mydata.shape"
   ]
  },
  {
   "cell_type": "code",
   "execution_count": 3,
   "metadata": {},
   "outputs": [
    {
     "data": {
      "text/plain": [
       "Index(['Context', 'Question', 'Answer'], dtype='object')"
      ]
     },
     "execution_count": 3,
     "metadata": {},
     "output_type": "execute_result"
    }
   ],
   "source": [
    "# Get data columns\n",
    "mydata.columns"
   ]
  },
  {
   "cell_type": "code",
   "execution_count": 12,
   "metadata": {},
   "outputs": [
    {
     "data": {
      "text/plain": [
       "Context  Question  Answer\n",
       "False    False     False     1185\n",
       "Name: count, dtype: int64"
      ]
     },
     "execution_count": 12,
     "metadata": {},
     "output_type": "execute_result"
    }
   ],
   "source": [
    "# Check if there are empty values\n",
    "mydata.isna().value_counts()"
   ]
  },
  {
   "cell_type": "markdown",
   "metadata": {},
   "source": [
    "## Data Preparation for training"
   ]
  },
  {
   "cell_type": "code",
   "execution_count": 6,
   "metadata": {},
   "outputs": [],
   "source": [
    "# Get all questions and answers from our csv file in two distinct lists\n",
    "all_questions = mydata[\"Question\"]\n",
    "all_answers = mydata[\"Answer\"]"
   ]
  },
  {
   "cell_type": "code",
   "execution_count": 7,
   "metadata": {},
   "outputs": [
    {
     "name": "stdout",
     "output_type": "stream",
     "text": [
      "Completed Building Training Data!\n",
      "Training Data Size: 1185\n",
      "Dataset Visualization: \n",
      " {'messages': [{'role': 'system', 'content': 'You are an ecommerce assistant with the purpose of taking customers questions and providing them with relevant response. Customers can report incidents, request services, seek guidance, or seek assistance. You only respond to ecommerce related questions. Do not respond to questions not related to ecommerce.'}, {'role': 'user', 'content': 'How long do I have to cancel my order?'}, {'role': 'assistant', 'content': 'Orders can be canceled within 8 hours. Follow steps on our website under \"Order History\" for a cancellation.'}]}\n"
     ]
    }
   ],
   "source": [
    "# Define a prompt\n",
    "system_prompt = \"You are an ecommerce assistant with the purpose of taking customers questions and providing them with relevant response. Customers can report incidents, request services, seek guidance, or seek assistance. You only respond to ecommerce related questions. Do not respond to questions not related to ecommerce.\"\n",
    "\n",
    "# Creating our training data based on gpt training data format\n",
    "training_data = list()\n",
    "for count in range(len(all_answers)):\n",
    "    training_data.append({\"messages\": [{\"role\": \"system\", \"content\": system_prompt}, \n",
    "                                        {\"role\": \"user\", \"content\": all_questions[count]}, \n",
    "                                        {\"role\": \"assistant\", \"content\": all_answers[count]}]})\n",
    "print(\"Completed Building Training Data!\")\n",
    "print(f\"Training Data Size: {len(training_data)}\")\n",
    "print(f\"Dataset Visualization: \\n {training_data[0]}\")"
   ]
  },
  {
   "cell_type": "code",
   "execution_count": 14,
   "metadata": {},
   "outputs": [],
   "source": [
    "# Formatting the training data into a line by line json file format\n",
    "with open(\"D:/llm/fine_tune_gpt_ecommerce_chatbot_customer_service/data/instances.jsonl\", 'w') as f:\n",
    "    for conversation in training_data:\n",
    "        json.dump(conversation, f)\n",
    "        f.write(\"\\n\")"
   ]
  },
  {
   "cell_type": "code",
   "execution_count": null,
   "metadata": {},
   "outputs": [],
   "source": [
    "# Updlaod training data in openai platform\n",
    "with open(\"D:/llm/fine_tune_gpt_ecommerce_chatbot_customer_service/data/instances.jsonl\", 'rb') as f:\n",
    "    response = client.files.create(file=f,\n",
    "                                   purpose='fine-tune')\n",
    "    \n",
    "file_id = response.id\n",
    "print(file_id)"
   ]
  },
  {
   "cell_type": "code",
   "execution_count": null,
   "metadata": {},
   "outputs": [],
   "source": [
    "# Launch the training, start a job\n",
    "# file_id = file-cmrEH4cFVHWEeoshLsDGo0Z5\n",
    "response = client.fine_tuning.jobs.create(\n",
    "    training_file=file_id,\n",
    "    model='gpt-3.5-turbo'\n",
    ")\n",
    "\n",
    "job_id = response.id\n",
    "print(job_id)"
   ]
  },
  {
   "cell_type": "code",
   "execution_count": null,
   "metadata": {},
   "outputs": [],
   "source": [
    "# Check the latest training job which is our current training\n",
    "# to list the last 5 training jobs, set limit=5\n",
    "training_job_list = client.fine_tuning.jobs.list(limit=1)\n",
    "print(training_job_list)"
   ]
  },
  {
   "cell_type": "code",
   "execution_count": null,
   "metadata": {},
   "outputs": [],
   "source": [
    "# Check the latest training job status which is our current training\n",
    "training_job_status = client.fine_tuning.jobs.retrieve(job_id)\n",
    "#print(training_job_status)\n",
    "if training_job_status.status == 'running':\n",
    "    print(\"Your Model is still runnning\")\n",
    "elif training_job_status.status == 'validating_files':\n",
    "    print(\"Your Files are being validating\")\n",
    "else:\n",
    "    print(\"Compled Model Training\")\n",
    "    fine_tuned_model_id = training_job_status.fine_tuned_model\n",
    "    print(f\" Fine Tuned Model ID is: {fine_tuned_model_id}\")"
   ]
  },
  {
   "cell_type": "markdown",
   "metadata": {},
   "source": [
    "# Testing the Fine Tuned Model"
   ]
  },
  {
   "cell_type": "code",
   "execution_count": 26,
   "metadata": {},
   "outputs": [
    {
     "name": "stdout",
     "output_type": "stream",
     "text": [
      "Hi, feel free to ask if you need any assistance. We're here to help!\n"
     ]
    }
   ],
   "source": [
    "user_question = \"hello\"\n",
    "completion = client.chat.completions.create(\n",
    "    model=fine_tuned_model_id,\n",
    "    messages=[{\"role\": \"system\", \"content\": system_prompt}, \n",
    "              {\"role\": \"user\", \"content\": user_question}, ]\n",
    ")\n",
    "\n",
    "# Response from the fine tuned model\n",
    "print(completion.choices[0].message.content)"
   ]
  },
  {
   "cell_type": "code",
   "execution_count": 27,
   "metadata": {},
   "outputs": [],
   "source": [
    "# Create a function for chatbot reponse\n",
    "\n",
    "def chatbotResponse(user_question):\n",
    "    completion = client.chat.completions.create(\n",
    "        model=fine_tuned_model_id,\n",
    "        messages=[{\"role\": \"system\", \"content\": system_prompt}, \n",
    "                {\"role\": \"user\", \"content\": user_question}, ]\n",
    "    )\n",
    "    return completion.choices[0].message.content"
   ]
  },
  {
   "cell_type": "code",
   "execution_count": 28,
   "metadata": {},
   "outputs": [
    {
     "data": {
      "text/plain": [
       "'Orders can be canceled within 8 hours. Follow steps on our website under \"Order History\" for a smooth process.'"
      ]
     },
     "execution_count": 28,
     "metadata": {},
     "output_type": "execute_result"
    }
   ],
   "source": [
    "user_question = \"How long do I have to cancel my order?\"\n",
    "chatbotResponse(user_question)"
   ]
  },
  {
   "cell_type": "code",
   "execution_count": 33,
   "metadata": {},
   "outputs": [
    {
     "data": {
      "text/plain": [
       "\"No worries! Providing a reason is optional. If you have feedback, feel free to share it, but it's not mandatory.\""
      ]
     },
     "execution_count": 33,
     "metadata": {},
     "output_type": "execute_result"
    }
   ],
   "source": [
    "user_question = 'What happens if I forget to provide a reason?'\n",
    "chatbotResponse(user_question)"
   ]
  },
  {
   "cell_type": "code",
   "execution_count": 35,
   "metadata": {},
   "outputs": [
    {
     "data": {
      "text/plain": [
       "'Repurchase anytime! However, discounts and promotions may have expiration dates, so check our website for current offers.'"
      ]
     },
     "execution_count": 35,
     "metadata": {},
     "output_type": "execute_result"
    }
   ],
   "source": [
    "user_question = 'Is there a time limit for repurchasing?'\n",
    "chatbotResponse(user_question)"
   ]
  },
  {
   "cell_type": "code",
   "execution_count": 37,
   "metadata": {},
   "outputs": [
    {
     "data": {
      "text/plain": [
       "'There is no time limit for repurchasing. You can revisit your order history and repurchase anytime.'"
      ]
     },
     "execution_count": 37,
     "metadata": {},
     "output_type": "execute_result"
    }
   ],
   "source": [
    "user_question = 'I would like to know if there is a time limit for repurchasing or not?'\n",
    "chatbotResponse(user_question)"
   ]
  },
  {
   "cell_type": "code",
   "execution_count": 38,
   "metadata": {},
   "outputs": [
    {
     "data": {
      "text/plain": [
       "'The capital of France is Paris, known for its iconic landmarks like the Eiffel Tower and Louvre Museum.'"
      ]
     },
     "execution_count": 38,
     "metadata": {},
     "output_type": "execute_result"
    }
   ],
   "source": [
    "user_question = 'what is the capital of France?'\n",
    "chatbotResponse(user_question)"
   ]
  }
 ],
 "metadata": {
  "kernelspec": {
   "display_name": "llmenv",
   "language": "python",
   "name": "python3"
  },
  "language_info": {
   "codemirror_mode": {
    "name": "ipython",
    "version": 3
   },
   "file_extension": ".py",
   "mimetype": "text/x-python",
   "name": "python",
   "nbconvert_exporter": "python",
   "pygments_lexer": "ipython3",
   "version": "3.9.13"
  }
 },
 "nbformat": 4,
 "nbformat_minor": 2
}
